{
  "nbformat": 4,
  "nbformat_minor": 0,
  "metadata": {
    "colab": {
      "provenance": [],
      "authorship_tag": "ABX9TyNlTomc+s6ZYFRfTYk9pJvb",
      "include_colab_link": true
    },
    "kernelspec": {
      "name": "python3",
      "display_name": "Python 3"
    },
    "language_info": {
      "name": "python"
    }
  },
  "cells": [
    {
      "cell_type": "markdown",
      "metadata": {
        "id": "view-in-github",
        "colab_type": "text"
      },
      "source": [
        "<a href=\"https://colab.research.google.com/github/TiagoSilvaGomes/Curso-Senac-Python---003/blob/main/Aula_04_Tiago_Gomes.ipynb\" target=\"_parent\"><img src=\"https://colab.research.google.com/assets/colab-badge.svg\" alt=\"Open In Colab\"/></a>"
      ]
    },
    {
      "cell_type": "code",
      "source": [
        "for elemento in [1, 2, 3, 4, 5, 6]:\n",
        " print('Estamos no elemnto', elemento)"
      ],
      "metadata": {
        "colab": {
          "base_uri": "https://localhost:8080/",
          "height": 0
        },
        "id": "Nj4OEhbvM3d_",
        "outputId": "8bb1ce6b-0bde-4a6b-804d-ab4cf66c476c"
      },
      "execution_count": 9,
      "outputs": [
        {
          "output_type": "stream",
          "name": "stdout",
          "text": [
            "Estamos no elemnto 1\n",
            "Estamos no elemnto 2\n",
            "Estamos no elemnto 3\n",
            "Estamos no elemnto 4\n",
            "Estamos no elemnto 5\n",
            "Estamos no elemnto 6\n"
          ]
        }
      ]
    },
    {
      "cell_type": "code",
      "source": [
        "for elemento in 'STRING':\n",
        "  print('Estamos no elemento', elemento)"
      ],
      "metadata": {
        "colab": {
          "base_uri": "https://localhost:8080/",
          "height": 0
        },
        "id": "-UrxVw6rNyxl",
        "outputId": "11e13509-3994-4553-a8ad-7de6707a6e9c"
      },
      "execution_count": 10,
      "outputs": [
        {
          "output_type": "stream",
          "name": "stdout",
          "text": [
            "Estamos no elemento S\n",
            "Estamos no elemento T\n",
            "Estamos no elemento R\n",
            "Estamos no elemento I\n",
            "Estamos no elemento N\n",
            "Estamos no elemento G\n"
          ]
        }
      ]
    },
    {
      "cell_type": "code",
      "source": [
        "for elemento in range(len('STRING')):\n",
        "  print('estamos no elemento' , elemento)"
      ],
      "metadata": {
        "colab": {
          "base_uri": "https://localhost:8080/",
          "height": 0
        },
        "id": "hpsmgZZROGAW",
        "outputId": "f7a84214-f644-401a-da1a-2c06825b322b"
      },
      "execution_count": 11,
      "outputs": [
        {
          "output_type": "stream",
          "name": "stdout",
          "text": [
            "estamos no elemento 0\n",
            "estamos no elemento 1\n",
            "estamos no elemento 2\n",
            "estamos no elemento 3\n",
            "estamos no elemento 4\n",
            "estamos no elemento 5\n"
          ]
        }
      ]
    },
    {
      "cell_type": "code",
      "source": [
        "produto = 0\n",
        "while produto < 4:\n",
        "  p = str(input('Digite o nome do produto :'))\n",
        "  v = float(input('Digite o valor do produto :'))\n",
        "  produto +=1"
      ],
      "metadata": {
        "colab": {
          "base_uri": "https://localhost:8080/",
          "height": 0
        },
        "id": "IaQsbWyqOnK-",
        "outputId": "ba60b130-62f8-421c-b721-e4215194ab65"
      },
      "execution_count": 12,
      "outputs": [
        {
          "name": "stdout",
          "output_type": "stream",
          "text": [
            "Digite o nome do produto :5\n",
            "Digite o valor do produto :7\n",
            "Digite o nome do produto :6\n",
            "Digite o valor do produto :5\n",
            "Digite o nome do produto :9\n",
            "Digite o valor do produto :4\n",
            "Digite o nome do produto :3\n",
            "Digite o valor do produto :2\n"
          ]
        }
      ]
    },
    {
      "cell_type": "code",
      "source": [
        "elemento = 0"
      ],
      "metadata": {
        "id": "nuIe2ed5PcFd"
      },
      "execution_count": 16,
      "outputs": []
    },
    {
      "cell_type": "code",
      "source": [
        "while elemento <= len ([1, 2, 3, 4, 5, 6]):\n",
        "  print('Estamos no elemento',elemento)"
      ],
      "metadata": {
        "id": "4DdTGPqvPolt"
      },
      "execution_count": null,
      "outputs": []
    },
    {
      "cell_type": "code",
      "source": [
        "elemento = 0"
      ],
      "metadata": {
        "id": "o3Z0e-5hP-bP"
      },
      "execution_count": 19,
      "outputs": []
    },
    {
      "cell_type": "code",
      "source": [
        "while elemento <= len ([1, 2, 3, 4, 5, 6]):\n",
        "  print('Estamos no elemento', elemento)\n",
        "  elemento +=1"
      ],
      "metadata": {
        "colab": {
          "base_uri": "https://localhost:8080/",
          "height": 0
        },
        "id": "5-Z_IjWMQgk1",
        "outputId": "db0b4711-d265-4baf-f158-4f0b22eb921a"
      },
      "execution_count": 20,
      "outputs": [
        {
          "output_type": "stream",
          "name": "stdout",
          "text": [
            "Estamos no elemento 0\n",
            "Estamos no elemento 1\n",
            "Estamos no elemento 2\n",
            "Estamos no elemento 3\n",
            "Estamos no elemento 4\n",
            "Estamos no elemento 5\n",
            "Estamos no elemento 6\n"
          ]
        }
      ]
    },
    {
      "cell_type": "code",
      "source": [
        "s = 'STRING'\n",
        "indice = 0\n",
        "\n",
        "while indice in range(len(s)):\n",
        "  print('Estamos no elemento',s[indice])\n",
        "  indice +=1"
      ],
      "metadata": {
        "colab": {
          "base_uri": "https://localhost:8080/",
          "height": 0
        },
        "id": "Co81rTWdRFNH",
        "outputId": "17fae073-7693-4cdc-d4f1-906829313bf1"
      },
      "execution_count": 21,
      "outputs": [
        {
          "output_type": "stream",
          "name": "stdout",
          "text": [
            "Estamos no elemento S\n",
            "Estamos no elemento T\n",
            "Estamos no elemento R\n",
            "Estamos no elemento I\n",
            "Estamos no elemento N\n",
            "Estamos no elemento G\n"
          ]
        }
      ]
    },
    {
      "cell_type": "markdown",
      "source": [
        "cenario 1 temos preViamente o numero de petiçoes é o FOR"
      ],
      "metadata": {
        "id": "pfXU4tHPR-FN"
      }
    },
    {
      "cell_type": "code",
      "source": [
        "palavra = 'tranquilo'\n",
        "for indice, letra in enumerate(palavra):\n",
        "  print(indice, letra)"
      ],
      "metadata": {
        "colab": {
          "base_uri": "https://localhost:8080/",
          "height": 0
        },
        "id": "ZWzjtrDzSFiF",
        "outputId": "980030c7-6d31-4391-97ce-6f7f359f30f2"
      },
      "execution_count": 22,
      "outputs": [
        {
          "output_type": "stream",
          "name": "stdout",
          "text": [
            "0 t\n",
            "1 r\n",
            "2 a\n",
            "3 n\n",
            "4 q\n",
            "5 u\n",
            "6 i\n",
            "7 l\n",
            "8 o\n"
          ]
        }
      ]
    },
    {
      "cell_type": "code",
      "source": [
        "lista = ['eat', 'sleep','repeat']\n",
        "palavra = 'geek'"
      ],
      "metadata": {
        "id": "-DkbeI9fTe2t"
      },
      "execution_count": 23,
      "outputs": []
    },
    {
      "cell_type": "code",
      "source": [
        "objeto1 = enumerate(lista)\n",
        "objeto2 = enumerate(lista)"
      ],
      "metadata": {
        "id": "Ud14gNt3UJIC"
      },
      "execution_count": 24,
      "outputs": []
    },
    {
      "cell_type": "code",
      "source": [
        "print('Tipo :',type(objeto1))\n",
        "print(list(enumerate(lista)))"
      ],
      "metadata": {
        "colab": {
          "base_uri": "https://localhost:8080/",
          "height": 0
        },
        "id": "_MfmW6pJUgM-",
        "outputId": "290444a7-4850-41ea-847d-5138e27748cb"
      },
      "execution_count": 26,
      "outputs": [
        {
          "output_type": "stream",
          "name": "stdout",
          "text": [
            "Tipo : <class 'enumerate'>\n",
            "[(0, 'eat'), (1, 'sleep'), (2, 'repeat')]\n"
          ]
        }
      ]
    },
    {
      "cell_type": "code",
      "source": [
        "print(list(enumerate(palavra,2)))"
      ],
      "metadata": {
        "colab": {
          "base_uri": "https://localhost:8080/",
          "height": 0
        },
        "id": "K5suGIi9U-0l",
        "outputId": "a193bc51-d326-43e3-8a9e-3665d0182ba8"
      },
      "execution_count": 27,
      "outputs": [
        {
          "output_type": "stream",
          "name": "stdout",
          "text": [
            "[(2, 'g'), (3, 'e'), (4, 'e'), (5, 'k')]\n"
          ]
        }
      ]
    },
    {
      "cell_type": "code",
      "source": [
        "s = 'viva o python'\n",
        "for ch in s:\n",
        "  print('oi')"
      ],
      "metadata": {
        "colab": {
          "base_uri": "https://localhost:8080/",
          "height": 0
        },
        "id": "lG57sSXQVa7L",
        "outputId": "d26572ef-3506-4cdd-c165-21cd27d80591"
      },
      "execution_count": 30,
      "outputs": [
        {
          "output_type": "stream",
          "name": "stdout",
          "text": [
            "oi\n",
            "oi\n",
            "oi\n",
            "oi\n",
            "oi\n",
            "oi\n",
            "oi\n",
            "oi\n",
            "oi\n",
            "oi\n",
            "oi\n",
            "oi\n",
            "oi\n"
          ]
        }
      ]
    },
    {
      "cell_type": "code",
      "source": [
        "s = 'viva o python'\n",
        "for ch in s[3:8]:\n",
        "  print('oi')"
      ],
      "metadata": {
        "colab": {
          "base_uri": "https://localhost:8080/",
          "height": 0
        },
        "id": "XDgO88UYV8Nq",
        "outputId": "e8856be7-4cc0-4362-d256-1f170b69a65c"
      },
      "execution_count": 32,
      "outputs": [
        {
          "output_type": "stream",
          "name": "stdout",
          "text": [
            "oi\n",
            "oi\n",
            "oi\n",
            "oi\n",
            "oi\n"
          ]
        }
      ]
    },
    {
      "cell_type": "code",
      "source": [
        "numeroInteiro = 0\n",
        "\n",
        "for num in range(10):\n",
        "\n",
        "  numeroInteiro = int(input('Favor informar 10 numeros inteiros :'))\n",
        "\n",
        "\n",
        "  result = numeroInteiro\n",
        "\n",
        "  impar = (result %2 )\n",
        "  par = (result )\n",
        "  \n",
        "print('Quantidade de numeros pares e impares :', par)\n",
        "\n"
      ],
      "metadata": {
        "colab": {
          "base_uri": "https://localhost:8080/"
        },
        "id": "L7w2U3wfXBQC",
        "outputId": "56192f4c-4c01-4750-ba05-d55f5c14c5eb"
      },
      "execution_count": 67,
      "outputs": [
        {
          "output_type": "stream",
          "name": "stdout",
          "text": [
            "Favor informar 10 numeros inteiros :6\n",
            "Favor informar 10 numeros inteiros :7\n",
            "Favor informar 10 numeros inteiros :9\n",
            "Favor informar 10 numeros inteiros :5\n",
            "Favor informar 10 numeros inteiros :4\n",
            "Favor informar 10 numeros inteiros :9\n",
            "Favor informar 10 numeros inteiros :3\n",
            "Favor informar 10 numeros inteiros :2\n",
            "Favor informar 10 numeros inteiros :9\n",
            "Favor informar 10 numeros inteiros :0\n",
            "Quantidade de numeros pares e impares : 0\n"
          ]
        }
      ]
    },
    {
      "cell_type": "code",
      "source": [
        "for nome in ['Reginaldo', 'Gisele Pintcher', 'Scoob', 'Marlene','Zezinho', 'Cibele', 'Suely']:\n",
        "  \n",
        "  convite = ('Oi, ' + nome + '!  Por favor, venha para o sabado pet em minha casa!')\n",
        "\n",
        "  print(convite)"
      ],
      "metadata": {
        "colab": {
          "base_uri": "https://localhost:8080/"
        },
        "id": "TaoXancYcjUf",
        "outputId": "d3c716d6-b547-4e9f-ed5b-f7861bf7166a"
      },
      "execution_count": 51,
      "outputs": [
        {
          "output_type": "stream",
          "name": "stdout",
          "text": [
            "Oi, Reginaldo!  Por favor, venha para o sabado pet em minha casa!\n",
            "Oi, Gisele Pintcher!  Por favor, venha para o sabado pet em minha casa!\n",
            "Oi, Scoob!  Por favor, venha para o sabado pet em minha casa!\n",
            "Oi, Marlene!  Por favor, venha para o sabado pet em minha casa!\n",
            "Oi, Zezinho!  Por favor, venha para o sabado pet em minha casa!\n",
            "Oi, Cibele!  Por favor, venha para o sabado pet em minha casa!\n",
            "Oi, Suely!  Por favor, venha para o sabado pet em minha casa!\n"
          ]
        }
      ]
    },
    {
      "cell_type": "code",
      "source": [
        "temperatura = float(input('Qual a temperatura ?'))\n",
        "if(temperatura > 30):\n",
        "  print('Vista roupas leves')\n",
        "else:\n",
        "  print('Busque seus casacos!')\n",
        "\n"
      ],
      "metadata": {
        "colab": {
          "base_uri": "https://localhost:8080/"
        },
        "id": "qvvWZqHWgYx3",
        "outputId": "a7e43ae2-ce9e-4ec6-9692-c1aaac266986"
      },
      "execution_count": 60,
      "outputs": [
        {
          "output_type": "stream",
          "name": "stdout",
          "text": [
            "Qual a temperatura ?23\n",
            "Busque seus casacos!\n"
          ]
        }
      ]
    },
    {
      "cell_type": "code",
      "source": [
        "for um_char in 'Venha para a festa':\n",
        "  print(um_char)\n"
      ],
      "metadata": {
        "id": "yRWaZGjWht8U"
      },
      "execution_count": null,
      "outputs": []
    },
    {
      "cell_type": "code",
      "source": [
        "frase = 'Educacao nao transforma o mundo. Educação muda pessoas. Pessoas transformam o mundo.'\n",
        "'s' in frase \n"
      ],
      "metadata": {
        "id": "rfbZEUMRiyVr"
      },
      "execution_count": null,
      "outputs": []
    },
    {
      "cell_type": "code",
      "source": [
        "dia = str(input('Qual o dia da semana ?'))\n",
        "if (dia == 'domingo' or dia =='sabado' ):\n",
        "  print('Hoje é dia de descanso !')\n",
        "else:\n",
        "    print('Você precisa trabalhar!')\n"
      ],
      "metadata": {
        "id": "gp3smZUipf5Z"
      },
      "execution_count": null,
      "outputs": []
    },
    {
      "cell_type": "code",
      "source": [
        "par = list(range(0, 10, 2))\n",
        "\n",
        "impar = list(range(-1,10,2))\n",
        "\n",
        "\n",
        "print('Resultado :',par, impar)"
      ],
      "metadata": {
        "colab": {
          "base_uri": "https://localhost:8080/"
        },
        "id": "i0h0-BkOqda8",
        "outputId": "4c6c5827-84c8-49c1-e9b0-0a2d055f7a75"
      },
      "execution_count": 106,
      "outputs": [
        {
          "output_type": "stream",
          "name": "stdout",
          "text": [
            "Resultado : [0, 2, 4, 6, 8] [-1, 1, 3, 5, 7, 9]\n"
          ]
        }
      ]
    }
  ]
}