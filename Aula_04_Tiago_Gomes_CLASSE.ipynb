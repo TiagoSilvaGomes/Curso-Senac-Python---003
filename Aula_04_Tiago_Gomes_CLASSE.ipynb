{
  "nbformat": 4,
  "nbformat_minor": 0,
  "metadata": {
    "colab": {
      "provenance": [],
      "authorship_tag": "ABX9TyN/q23KAtZv3AObRpEEamJk",
      "include_colab_link": true
    },
    "kernelspec": {
      "name": "python3",
      "display_name": "Python 3"
    },
    "language_info": {
      "name": "python"
    }
  },
  "cells": [
    {
      "cell_type": "markdown",
      "metadata": {
        "id": "view-in-github",
        "colab_type": "text"
      },
      "source": [
        "<a href=\"https://colab.research.google.com/github/TiagoSilvaGomes/Curso-Senac-Python---003/blob/main/Aula_04_Tiago_Gomes_CLASSE.ipynb\" target=\"_parent\"><img src=\"https://colab.research.google.com/assets/colab-badge.svg\" alt=\"Open In Colab\"/></a>"
      ]
    },
    {
      "cell_type": "code",
      "source": [
        "for elemento in [1, 2, 3, 4, 5, 6]:\n",
        " print('Estamos no elemnto', elemento)"
      ],
      "metadata": {
        "colab": {
          "base_uri": "https://localhost:8080/"
        },
        "id": "Nj4OEhbvM3d_",
        "outputId": "8bb1ce6b-0bde-4a6b-804d-ab4cf66c476c"
      },
      "execution_count": null,
      "outputs": [
        {
          "output_type": "stream",
          "name": "stdout",
          "text": [
            "Estamos no elemnto 1\n",
            "Estamos no elemnto 2\n",
            "Estamos no elemnto 3\n",
            "Estamos no elemnto 4\n",
            "Estamos no elemnto 5\n",
            "Estamos no elemnto 6\n"
          ]
        }
      ]
    },
    {
      "cell_type": "code",
      "source": [
        "for elemento in 'STRING':\n",
        "  print('Estamos no elemento', elemento)"
      ],
      "metadata": {
        "colab": {
          "base_uri": "https://localhost:8080/"
        },
        "id": "-UrxVw6rNyxl",
        "outputId": "11e13509-3994-4553-a8ad-7de6707a6e9c"
      },
      "execution_count": null,
      "outputs": [
        {
          "output_type": "stream",
          "name": "stdout",
          "text": [
            "Estamos no elemento S\n",
            "Estamos no elemento T\n",
            "Estamos no elemento R\n",
            "Estamos no elemento I\n",
            "Estamos no elemento N\n",
            "Estamos no elemento G\n"
          ]
        }
      ]
    },
    {
      "cell_type": "code",
      "source": [
        "for elemento in range(len('STRING')):\n",
        "  print('estamos no elemento' , elemento)"
      ],
      "metadata": {
        "colab": {
          "base_uri": "https://localhost:8080/"
        },
        "id": "hpsmgZZROGAW",
        "outputId": "f7a84214-f644-401a-da1a-2c06825b322b"
      },
      "execution_count": null,
      "outputs": [
        {
          "output_type": "stream",
          "name": "stdout",
          "text": [
            "estamos no elemento 0\n",
            "estamos no elemento 1\n",
            "estamos no elemento 2\n",
            "estamos no elemento 3\n",
            "estamos no elemento 4\n",
            "estamos no elemento 5\n"
          ]
        }
      ]
    },
    {
      "cell_type": "code",
      "source": [
        "produto = 0\n",
        "while produto < 4:\n",
        "  p = str(input('Digite o nome do produto :'))\n",
        "  v = float(input('Digite o valor do produto :'))\n",
        "  produto +=1"
      ],
      "metadata": {
        "colab": {
          "base_uri": "https://localhost:8080/"
        },
        "id": "IaQsbWyqOnK-",
        "outputId": "ba60b130-62f8-421c-b721-e4215194ab65"
      },
      "execution_count": null,
      "outputs": [
        {
          "name": "stdout",
          "output_type": "stream",
          "text": [
            "Digite o nome do produto :5\n",
            "Digite o valor do produto :7\n",
            "Digite o nome do produto :6\n",
            "Digite o valor do produto :5\n",
            "Digite o nome do produto :9\n",
            "Digite o valor do produto :4\n",
            "Digite o nome do produto :3\n",
            "Digite o valor do produto :2\n"
          ]
        }
      ]
    },
    {
      "cell_type": "code",
      "source": [
        "elemento = 0"
      ],
      "metadata": {
        "id": "nuIe2ed5PcFd"
      },
      "execution_count": null,
      "outputs": []
    },
    {
      "cell_type": "code",
      "source": [
        "while elemento <= len ([1, 2, 3, 4, 5, 6]):\n",
        "  print('Estamos no elemento',elemento)"
      ],
      "metadata": {
        "id": "4DdTGPqvPolt"
      },
      "execution_count": null,
      "outputs": []
    },
    {
      "cell_type": "code",
      "source": [
        "elemento = 0"
      ],
      "metadata": {
        "id": "o3Z0e-5hP-bP"
      },
      "execution_count": null,
      "outputs": []
    },
    {
      "cell_type": "code",
      "source": [
        "while elemento <= len ([1, 2, 3, 4, 5, 6]):\n",
        "  print('Estamos no elemento', elemento)\n",
        "  elemento +=1"
      ],
      "metadata": {
        "colab": {
          "base_uri": "https://localhost:8080/"
        },
        "id": "5-Z_IjWMQgk1",
        "outputId": "db0b4711-d265-4baf-f158-4f0b22eb921a"
      },
      "execution_count": null,
      "outputs": [
        {
          "output_type": "stream",
          "name": "stdout",
          "text": [
            "Estamos no elemento 0\n",
            "Estamos no elemento 1\n",
            "Estamos no elemento 2\n",
            "Estamos no elemento 3\n",
            "Estamos no elemento 4\n",
            "Estamos no elemento 5\n",
            "Estamos no elemento 6\n"
          ]
        }
      ]
    },
    {
      "cell_type": "code",
      "source": [
        "s = 'STRING'\n",
        "indice = 0\n",
        "\n",
        "while indice in range(len(s)):\n",
        "  print('Estamos no elemento',s[indice])\n",
        "  indice +=1"
      ],
      "metadata": {
        "colab": {
          "base_uri": "https://localhost:8080/"
        },
        "id": "Co81rTWdRFNH",
        "outputId": "17fae073-7693-4cdc-d4f1-906829313bf1"
      },
      "execution_count": null,
      "outputs": [
        {
          "output_type": "stream",
          "name": "stdout",
          "text": [
            "Estamos no elemento S\n",
            "Estamos no elemento T\n",
            "Estamos no elemento R\n",
            "Estamos no elemento I\n",
            "Estamos no elemento N\n",
            "Estamos no elemento G\n"
          ]
        }
      ]
    },
    {
      "cell_type": "markdown",
      "source": [
        "cenario 1 temos preViamente o numero de petiçoes é o FOR"
      ],
      "metadata": {
        "id": "pfXU4tHPR-FN"
      }
    },
    {
      "cell_type": "code",
      "source": [
        "palavra = 'tranquilo'\n",
        "for indice, letra in enumerate(palavra):\n",
        "  print(indice, letra)"
      ],
      "metadata": {
        "colab": {
          "base_uri": "https://localhost:8080/"
        },
        "id": "ZWzjtrDzSFiF",
        "outputId": "980030c7-6d31-4391-97ce-6f7f359f30f2"
      },
      "execution_count": null,
      "outputs": [
        {
          "output_type": "stream",
          "name": "stdout",
          "text": [
            "0 t\n",
            "1 r\n",
            "2 a\n",
            "3 n\n",
            "4 q\n",
            "5 u\n",
            "6 i\n",
            "7 l\n",
            "8 o\n"
          ]
        }
      ]
    },
    {
      "cell_type": "code",
      "source": [
        "lista = ['eat', 'sleep','repeat']\n",
        "palavra = 'geek'"
      ],
      "metadata": {
        "id": "-DkbeI9fTe2t"
      },
      "execution_count": null,
      "outputs": []
    },
    {
      "cell_type": "code",
      "source": [
        "objeto1 = enumerate(lista)\n",
        "objeto2 = enumerate(lista)"
      ],
      "metadata": {
        "id": "Ud14gNt3UJIC"
      },
      "execution_count": null,
      "outputs": []
    },
    {
      "cell_type": "code",
      "source": [
        "print('Tipo :',type(objeto1))\n",
        "print(list(enumerate(lista)))"
      ],
      "metadata": {
        "colab": {
          "base_uri": "https://localhost:8080/"
        },
        "id": "_MfmW6pJUgM-",
        "outputId": "290444a7-4850-41ea-847d-5138e27748cb"
      },
      "execution_count": null,
      "outputs": [
        {
          "output_type": "stream",
          "name": "stdout",
          "text": [
            "Tipo : <class 'enumerate'>\n",
            "[(0, 'eat'), (1, 'sleep'), (2, 'repeat')]\n"
          ]
        }
      ]
    },
    {
      "cell_type": "code",
      "source": [
        "print(list(enumerate(palavra,2)))"
      ],
      "metadata": {
        "colab": {
          "base_uri": "https://localhost:8080/"
        },
        "id": "K5suGIi9U-0l",
        "outputId": "a193bc51-d326-43e3-8a9e-3665d0182ba8"
      },
      "execution_count": null,
      "outputs": [
        {
          "output_type": "stream",
          "name": "stdout",
          "text": [
            "[(2, 'g'), (3, 'e'), (4, 'e'), (5, 'k')]\n"
          ]
        }
      ]
    },
    {
      "cell_type": "code",
      "source": [
        "s = 'viva o python'\n",
        "for ch in s:\n",
        "  print('oi')"
      ],
      "metadata": {
        "colab": {
          "base_uri": "https://localhost:8080/"
        },
        "id": "lG57sSXQVa7L",
        "outputId": "d26572ef-3506-4cdd-c165-21cd27d80591"
      },
      "execution_count": null,
      "outputs": [
        {
          "output_type": "stream",
          "name": "stdout",
          "text": [
            "oi\n",
            "oi\n",
            "oi\n",
            "oi\n",
            "oi\n",
            "oi\n",
            "oi\n",
            "oi\n",
            "oi\n",
            "oi\n",
            "oi\n",
            "oi\n",
            "oi\n"
          ]
        }
      ]
    },
    {
      "cell_type": "code",
      "source": [
        "s = 'viva o python'\n",
        "for ch in s[3:8]:\n",
        "  print('oi')"
      ],
      "metadata": {
        "colab": {
          "base_uri": "https://localhost:8080/"
        },
        "id": "XDgO88UYV8Nq",
        "outputId": "e8856be7-4cc0-4362-d256-1f170b69a65c"
      },
      "execution_count": null,
      "outputs": [
        {
          "output_type": "stream",
          "name": "stdout",
          "text": [
            "oi\n",
            "oi\n",
            "oi\n",
            "oi\n",
            "oi\n"
          ]
        }
      ]
    },
    {
      "cell_type": "code",
      "source": [
        "numeroInteiro = 0\n",
        "\n",
        "for num in range(10):\n",
        "\n",
        "  numeroInteiro = int(input('Favor informar 10 numeros inteiros :'))\n",
        "\n",
        "\n",
        "  result = numeroInteiro\n",
        "\n",
        "  impar = (result %2 )\n",
        "  par = (result )\n",
        "  \n",
        "print('Quantidade de numeros pares e impares :', par)\n",
        "\n"
      ],
      "metadata": {
        "colab": {
          "base_uri": "https://localhost:8080/"
        },
        "id": "L7w2U3wfXBQC",
        "outputId": "56192f4c-4c01-4750-ba05-d55f5c14c5eb"
      },
      "execution_count": null,
      "outputs": [
        {
          "output_type": "stream",
          "name": "stdout",
          "text": [
            "Favor informar 10 numeros inteiros :6\n",
            "Favor informar 10 numeros inteiros :7\n",
            "Favor informar 10 numeros inteiros :9\n",
            "Favor informar 10 numeros inteiros :5\n",
            "Favor informar 10 numeros inteiros :4\n",
            "Favor informar 10 numeros inteiros :9\n",
            "Favor informar 10 numeros inteiros :3\n",
            "Favor informar 10 numeros inteiros :2\n",
            "Favor informar 10 numeros inteiros :9\n",
            "Favor informar 10 numeros inteiros :0\n",
            "Quantidade de numeros pares e impares : 0\n"
          ]
        }
      ]
    },
    {
      "cell_type": "code",
      "source": [
        "for nome in ['Reginaldo', 'Gisele Pintcher', 'Scoob', 'Marlene','Zezinho', 'Cibele', 'Suely']:\n",
        "  \n",
        "  convite = ('Oi, ' + nome + '!  Por favor, venha para o sabado pet em minha casa!')\n",
        "\n",
        "  print(convite)"
      ],
      "metadata": {
        "colab": {
          "base_uri": "https://localhost:8080/"
        },
        "id": "TaoXancYcjUf",
        "outputId": "d3c716d6-b547-4e9f-ed5b-f7861bf7166a"
      },
      "execution_count": null,
      "outputs": [
        {
          "output_type": "stream",
          "name": "stdout",
          "text": [
            "Oi, Reginaldo!  Por favor, venha para o sabado pet em minha casa!\n",
            "Oi, Gisele Pintcher!  Por favor, venha para o sabado pet em minha casa!\n",
            "Oi, Scoob!  Por favor, venha para o sabado pet em minha casa!\n",
            "Oi, Marlene!  Por favor, venha para o sabado pet em minha casa!\n",
            "Oi, Zezinho!  Por favor, venha para o sabado pet em minha casa!\n",
            "Oi, Cibele!  Por favor, venha para o sabado pet em minha casa!\n",
            "Oi, Suely!  Por favor, venha para o sabado pet em minha casa!\n"
          ]
        }
      ]
    },
    {
      "cell_type": "code",
      "source": [
        "temperatura = float(input('Qual a temperatura ?'))\n",
        "if(temperatura > 30):\n",
        "  print('Vista roupas leves')\n",
        "else:\n",
        "  print('Busque seus casacos!')\n",
        "\n"
      ],
      "metadata": {
        "colab": {
          "base_uri": "https://localhost:8080/"
        },
        "id": "qvvWZqHWgYx3",
        "outputId": "a7e43ae2-ce9e-4ec6-9692-c1aaac266986"
      },
      "execution_count": null,
      "outputs": [
        {
          "output_type": "stream",
          "name": "stdout",
          "text": [
            "Qual a temperatura ?23\n",
            "Busque seus casacos!\n"
          ]
        }
      ]
    },
    {
      "cell_type": "code",
      "source": [
        "for um_char in 'Venha para a festa':\n",
        "  print(um_char)\n"
      ],
      "metadata": {
        "id": "yRWaZGjWht8U"
      },
      "execution_count": null,
      "outputs": []
    },
    {
      "cell_type": "code",
      "source": [
        "frase = 'Educacao nao transforma o mundo. Educação muda pessoas. Pessoas transformam o mundo.'\n",
        "'s' in frase \n"
      ],
      "metadata": {
        "id": "rfbZEUMRiyVr"
      },
      "execution_count": null,
      "outputs": []
    },
    {
      "cell_type": "code",
      "source": [
        "dia = str(input('Qual o dia da semana ?'))\n",
        "if (dia == 'domingo' or dia =='sabado' ):\n",
        "  print('Hoje é dia de descanso !')\n",
        "else:\n",
        "    print('Você precisa trabalhar!')\n"
      ],
      "metadata": {
        "id": "gp3smZUipf5Z"
      },
      "execution_count": null,
      "outputs": []
    },
    {
      "cell_type": "code",
      "source": [
        "for n in range (1 ,11):\n",
        "  numero = int(input('Informe 10 numeros inteiros : '))\n",
        "  \n",
        "\n",
        "  if(numero % 2 == 0):\n",
        "    print('A quanitdade de numeros pares é :',numero)\n",
        "  else:\n",
        "    print('A quantidade de numero impares é : ',numero)\n",
        "\n"
      ],
      "metadata": {
        "id": "i0h0-BkOqda8"
      },
      "execution_count": null,
      "outputs": []
    },
    {
      "cell_type": "code",
      "source": [
        "for n in range(0, 5, 2):\n",
        "  print('numero pares multiplicados',n)\n",
        "for n1 in range(0, 5, 2):\n",
        "  print('numero impares multiplicados',(n1+1)*(n1+1))\n",
        " "
      ],
      "metadata": {
        "colab": {
          "base_uri": "https://localhost:8080/"
        },
        "id": "reRcetR-VQ-Z",
        "outputId": "d397e899-816a-4227-f4c3-a1f2b518931d"
      },
      "execution_count": null,
      "outputs": [
        {
          "output_type": "stream",
          "name": "stdout",
          "text": [
            "numero pares multiplicados 0\n",
            "numero pares multiplicados 2\n",
            "numero pares multiplicados 4\n",
            "numero impares multiplicados 1\n",
            "numero impares multiplicados 9\n",
            "numero impares multiplicados 25\n"
          ]
        }
      ]
    },
    {
      "cell_type": "code",
      "source": [
        "frase = 'Tiago Gomes da Silva'\n",
        "if('a', 'e', 'i', 'o', 'u'):\n",
        "\n"
      ],
      "metadata": {
        "id": "FvTajVe7YieC"
      },
      "execution_count": null,
      "outputs": []
    },
    {
      "cell_type": "code",
      "source": [
        "lista_frutas = ['Manga','Morango','Uva', 'Jaca', 'Pera']\n"
      ],
      "metadata": {
        "id": "6Bhc05SibeqX"
      },
      "execution_count": null,
      "outputs": []
    },
    {
      "cell_type": "code",
      "source": [
        "print('Morango' in lista_frutas)"
      ],
      "metadata": {
        "colab": {
          "base_uri": "https://localhost:8080/"
        },
        "id": "fLAa3969cAPi",
        "outputId": "b86111f4-9f93-4f05-dd45-e4b104de1744"
      },
      "execution_count": null,
      "outputs": [
        {
          "output_type": "stream",
          "name": "stdout",
          "text": [
            "True\n"
          ]
        }
      ]
    },
    {
      "cell_type": "code",
      "source": [
        "for numeros in range(100,151,2):\n",
        "  print(numeros)"
      ],
      "metadata": {
        "id": "UbmZVPsIcTjX"
      },
      "execution_count": null,
      "outputs": []
    },
    {
      "cell_type": "code",
      "source": [
        "temperatura =  40\n",
        "while temperatura >= 25:\n",
        "  temperatura = int(input('Favor informe a temperatura :')) \n",
        "print('Fim!')"
      ],
      "metadata": {
        "colab": {
          "base_uri": "https://localhost:8080/"
        },
        "id": "ayHxb8YIc4_n",
        "outputId": "3bc6f29e-973c-477d-e856-c4851a92f28a"
      },
      "execution_count": null,
      "outputs": [
        {
          "output_type": "stream",
          "name": "stdout",
          "text": [
            "Favor informe a temperatura :100\n",
            "Favor informe a temperatura :23\n",
            "Fim!\n"
          ]
        }
      ]
    },
    {
      "cell_type": "code",
      "source": [
        "contador = 0\n",
        "while contador < 100:\n",
        "  contador = int(input('Informe um numero para o contador :'))\n",
        "print('FIM!')  "
      ],
      "metadata": {
        "colab": {
          "base_uri": "https://localhost:8080/"
        },
        "id": "976BHq95d_Lk",
        "outputId": "d86d78ac-8f5f-4b9a-c96b-97285f9eac8b"
      },
      "execution_count": null,
      "outputs": [
        {
          "output_type": "stream",
          "name": "stdout",
          "text": [
            "Informe um numero para o contador :20\n",
            "Informe um numero para o contador :20\n",
            "Informe um numero para o contador :33\n",
            "Informe um numero para o contador :52\n",
            "Informe um numero para o contador :100\n",
            "FIM!\n"
          ]
        }
      ]
    },
    {
      "cell_type": "code",
      "source": [
        "lista_vazia = []\n",
        "v = 4\n",
        "while v <= 20:\n",
        "  v = int(input('Informe um valor :'))\n",
        "  par = v % 2 == 0\n",
        "  print(par)\n"
      ],
      "metadata": {
        "id": "rWQ_8jvFeuDC"
      },
      "execution_count": null,
      "outputs": []
    },
    {
      "cell_type": "code",
      "source": [
        "frase = 'Educação não transforma o mundo. Educação muda pessoas. Pessoas transformam o mundo.'\n",
        "print(frase.count('s'))"
      ],
      "metadata": {
        "colab": {
          "base_uri": "https://localhost:8080/"
        },
        "id": "8Q0mTvrkhhVd",
        "outputId": "dc9b301f-05a2-43b0-f43e-c30d8261b7b0"
      },
      "execution_count": null,
      "outputs": [
        {
          "output_type": "stream",
          "name": "stdout",
          "text": [
            "8\n"
          ]
        }
      ]
    },
    {
      "cell_type": "code",
      "source": [
        "lista = ['a', 'b', 'c', 'd', 'e', 'f', 'g', 'h']"
      ],
      "metadata": {
        "id": "KQbW6lYKiRgf"
      },
      "execution_count": null,
      "outputs": []
    },
    {
      "cell_type": "code",
      "source": [
        "print(lista[6:])"
      ],
      "metadata": {
        "colab": {
          "base_uri": "https://localhost:8080/"
        },
        "id": "mHtpLIRHilrt",
        "outputId": "bd8168b4-f65c-480c-d752-42e7628d4e83"
      },
      "execution_count": null,
      "outputs": [
        {
          "output_type": "stream",
          "name": "stdout",
          "text": [
            "['g', 'h']\n"
          ]
        }
      ]
    },
    {
      "cell_type": "code",
      "source": [
        "dic1 = {'a':1,'b':2}"
      ],
      "metadata": {
        "id": "qGkyXQ7Di9Pv"
      },
      "execution_count": null,
      "outputs": []
    },
    {
      "cell_type": "code",
      "source": [
        "dict2 = {'c':4,'d':5}"
      ],
      "metadata": {
        "id": "Ui8doTFbjGC3"
      },
      "execution_count": null,
      "outputs": []
    },
    {
      "cell_type": "code",
      "source": [
        "dict3 = {'a':4,'b':5}"
      ],
      "metadata": {
        "id": "zKIre5qujQPP"
      },
      "execution_count": null,
      "outputs": []
    },
    {
      "cell_type": "code",
      "source": [
        "for um_valor in range (10):\n",
        "  print(um_valor)"
      ],
      "metadata": {
        "colab": {
          "base_uri": "https://localhost:8080/"
        },
        "id": "gDSGSkLTkBUI",
        "outputId": "2d77887a-7957-41dd-8744-4bbc92f05f94"
      },
      "execution_count": null,
      "outputs": [
        {
          "output_type": "stream",
          "name": "stdout",
          "text": [
            "0\n",
            "1\n",
            "2\n",
            "3\n",
            "4\n",
            "5\n",
            "6\n",
            "7\n",
            "8\n",
            "9\n"
          ]
        }
      ]
    },
    {
      "cell_type": "code",
      "source": [
        "for um_char in 'Venha para a festa ':\n",
        "  print(um_char)"
      ],
      "metadata": {
        "colab": {
          "base_uri": "https://localhost:8080/"
        },
        "id": "fj867GAJkJyg",
        "outputId": "e4eb2914-a370-4809-988b-0b8eb172a031"
      },
      "execution_count": null,
      "outputs": [
        {
          "output_type": "stream",
          "name": "stdout",
          "text": [
            "V\n",
            "e\n",
            "n\n",
            "h\n",
            "a\n",
            " \n",
            "p\n",
            "a\n",
            "r\n",
            "a\n",
            " \n",
            "a\n",
            " \n",
            "f\n",
            "e\n",
            "s\n",
            "t\n",
            "a\n",
            " \n"
          ]
        }
      ]
    }
  ]
}